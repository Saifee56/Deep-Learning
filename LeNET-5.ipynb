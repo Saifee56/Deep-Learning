{
 "cells": [
  {
   "cell_type": "markdown",
   "id": "24a75c0c",
   "metadata": {},
   "source": [
    "# LeNet-5 architecture basic"
   ]
  },
  {
   "cell_type": "code",
   "execution_count": null,
   "id": "2b91c492",
   "metadata": {},
   "outputs": [],
   "source": [
    "import tensorflow as tf\n",
    "from tensorflow.keras.datasets import mnist\n",
    "from tensorflow.keras.models import Sequential\n",
    "from tensorflow.keras.layers import Conv2D, AveragePooling2D,Flatten,Dense,MaxPooling2D\n",
    "from tensorflow.keras.utils import to_categorical"
   ]
  },
  {
   "cell_type": "code",
   "execution_count": 19,
   "id": "b0e29cbc",
   "metadata": {},
   "outputs": [],
   "source": [
    "(x_train, y_train), (x_test, y_test) = mnist.load_data()\n",
    "\n",
    "x_train = x_train.reshape((x_train.shape[0], 28, 28, 1))\n",
    "x_test = x_test.reshape((x_test.shape[0], 28, 28, 1))\n",
    "x_train, x_test = x_train / 255.0, x_test / 255.0\n",
    "y_train = to_categorical(y_train, 10)\n",
    "y_test = to_categorical(y_test, 10)"
   ]
  },
  {
   "cell_type": "code",
   "execution_count": 23,
   "id": "ac03168a",
   "metadata": {},
   "outputs": [],
   "source": [
    "def lenet_5(input_shape):\n",
    "    lenet = Sequential()\n",
    "    lenet.add(Conv2D(6, kernel_size=(5, 5), activation='tanh', input_shape=input_shape))\n",
    "    lenet.add(AveragePooling2D(pool_size=(2, 2)))\n",
    "    lenet.add(Conv2D(16, kernel_size=(5, 5), activation='tanh'))\n",
    "    lenet.add(AveragePooling2D(pool_size=(2, 2)))\n",
    "    lenet.add(Flatten())\n",
    "    lenet.add(Dense(120, activation='tanh'))\n",
    "    lenet.add(Dense(84, activation='tanh'))\n",
    "    lenet.add(Dense(10, activation='softmax'))\n",
    "    return model"
   ]
  },
  {
   "cell_type": "code",
   "execution_count": 24,
   "id": "ebd46ab5",
   "metadata": {},
   "outputs": [
    {
     "name": "stdout",
     "output_type": "stream",
     "text": [
      "Model: \"sequential_5\"\n",
      "_________________________________________________________________\n",
      " Layer (type)                Output Shape              Param #   \n",
      "=================================================================\n",
      " conv2d_10 (Conv2D)          (None, 24, 24, 6)         156       \n",
      "                                                                 \n",
      " average_pooling2d_4 (Averag  (None, 12, 12, 6)        0         \n",
      " ePooling2D)                                                     \n",
      "                                                                 \n",
      " conv2d_11 (Conv2D)          (None, 8, 8, 16)          2416      \n",
      "                                                                 \n",
      " average_pooling2d_5 (Averag  (None, 4, 4, 16)         0         \n",
      " ePooling2D)                                                     \n",
      "                                                                 \n",
      " flatten_3 (Flatten)         (None, 256)               0         \n",
      "                                                                 \n",
      " dense_6 (Dense)             (None, 120)               30840     \n",
      "                                                                 \n",
      " dense_7 (Dense)             (None, 84)                10164     \n",
      "                                                                 \n",
      " dense_8 (Dense)             (None, 10)                850       \n",
      "                                                                 \n",
      "=================================================================\n",
      "Total params: 44,426\n",
      "Trainable params: 44,426\n",
      "Non-trainable params: 0\n",
      "_________________________________________________________________\n"
     ]
    }
   ],
   "source": [
    "input_shape=(28,28,1)\n",
    "lenet=lenet_5(input_shape)\n",
    "lenet.summary()"
   ]
  },
  {
   "cell_type": "code",
   "execution_count": 25,
   "id": "c787ee31",
   "metadata": {},
   "outputs": [
    {
     "name": "stdout",
     "output_type": "stream",
     "text": [
      "Epoch 1/10\n",
      "750/750 [==============================] - 17s 21ms/step - loss: 0.3271 - accuracy: 0.9024 - val_loss: 0.1476 - val_accuracy: 0.9548\n",
      "Epoch 2/10\n",
      "750/750 [==============================] - 15s 20ms/step - loss: 0.1186 - accuracy: 0.9638 - val_loss: 0.1012 - val_accuracy: 0.9696\n",
      "Epoch 3/10\n",
      "750/750 [==============================] - 15s 20ms/step - loss: 0.0753 - accuracy: 0.9770 - val_loss: 0.0772 - val_accuracy: 0.9762\n",
      "Epoch 4/10\n",
      "750/750 [==============================] - 16s 22ms/step - loss: 0.0569 - accuracy: 0.9826 - val_loss: 0.0615 - val_accuracy: 0.9808\n",
      "Epoch 5/10\n",
      "750/750 [==============================] - 17s 23ms/step - loss: 0.0436 - accuracy: 0.9867 - val_loss: 0.0566 - val_accuracy: 0.9823\n",
      "Epoch 6/10\n",
      "750/750 [==============================] - 17s 23ms/step - loss: 0.0359 - accuracy: 0.9890 - val_loss: 0.0565 - val_accuracy: 0.9830\n",
      "Epoch 7/10\n",
      "750/750 [==============================] - 16s 21ms/step - loss: 0.0305 - accuracy: 0.9901 - val_loss: 0.0529 - val_accuracy: 0.9846\n",
      "Epoch 8/10\n",
      "750/750 [==============================] - 15s 20ms/step - loss: 0.0240 - accuracy: 0.9926 - val_loss: 0.0570 - val_accuracy: 0.9830\n",
      "Epoch 9/10\n",
      "750/750 [==============================] - 15s 20ms/step - loss: 0.0219 - accuracy: 0.9932 - val_loss: 0.0548 - val_accuracy: 0.9843\n",
      "Epoch 10/10\n",
      "750/750 [==============================] - 15s 20ms/step - loss: 0.0168 - accuracy: 0.9951 - val_loss: 0.0548 - val_accuracy: 0.9835\n",
      "313/313 [==============================] - 0s 2ms/step - loss: 0.0459 - accuracy: 0.9850\n",
      "Test accuracy: 0.9850000143051147\n"
     ]
    }
   ],
   "source": [
    "lenet.compile(optimizer='adam', loss='categorical_crossentropy', metrics=['accuracy'])\n",
    "lenet.fit(x_train, y_train, epochs=10, batch_size=64, validation_split=0.2)\n",
    "test_loss, test_accuracy = model.evaluate(x_test, y_test)\n",
    "print(f\"Test accuracy: {test_accuracy}\")"
   ]
  },
  {
   "cell_type": "code",
   "execution_count": null,
   "id": "c4f05c18",
   "metadata": {},
   "outputs": [],
   "source": []
  }
 ],
 "metadata": {
  "kernelspec": {
   "display_name": "Python 3 (ipykernel)",
   "language": "python",
   "name": "python3"
  },
  "language_info": {
   "codemirror_mode": {
    "name": "ipython",
    "version": 3
   },
   "file_extension": ".py",
   "mimetype": "text/x-python",
   "name": "python",
   "nbconvert_exporter": "python",
   "pygments_lexer": "ipython3",
   "version": "3.9.13"
  }
 },
 "nbformat": 4,
 "nbformat_minor": 5
}
